{
 "cells": [
  {
   "cell_type": "markdown",
   "id": "5a03dd8d-a9fb-4b22-837b-9f9c6282caf1",
   "metadata": {},
   "source": [
    "# TP2 : Data Mining"
   ]
  },
  {
   "cell_type": "markdown",
   "id": "e646bb83-d482-487b-ba96-70caa42bbfa7",
   "metadata": {},
   "source": [
    "#### Import Library "
   ]
  },
  {
   "cell_type": "code",
   "execution_count": 1,
   "id": "6c96f373-8f81-410d-9d4b-5f283e280f27",
   "metadata": {},
   "outputs": [],
   "source": [
    "import pandas as pd\n",
    "import numpy as np\n",
    "import math\n",
    "import matplotlib.pyplot as plt"
   ]
  },
  {
   "cell_type": "markdown",
   "id": "896cd158-b92a-4b0f-ba6b-46b20300d092",
   "metadata": {},
   "source": [
    "#### Read from file txt"
   ]
  },
  {
   "cell_type": "code",
   "execution_count": 2,
   "id": "49219a5e-cdf4-4a82-a79d-1583254d34d1",
   "metadata": {},
   "outputs": [],
   "source": [
    "T = pd.read_csv('ex2data1.txt',sep=\",\")"
   ]
  },
  {
   "cell_type": "markdown",
   "id": "eeb9c040-576f-480a-a7c6-6b1bfc622471",
   "metadata": {},
   "source": [
    "#### Data"
   ]
  },
  {
   "cell_type": "code",
   "execution_count": 3,
   "id": "dc9514fe-b6e7-4cc5-8228-7595924aef96",
   "metadata": {},
   "outputs": [
    {
     "data": {
      "text/html": [
       "<div>\n",
       "<style scoped>\n",
       "    .dataframe tbody tr th:only-of-type {\n",
       "        vertical-align: middle;\n",
       "    }\n",
       "\n",
       "    .dataframe tbody tr th {\n",
       "        vertical-align: top;\n",
       "    }\n",
       "\n",
       "    .dataframe thead th {\n",
       "        text-align: right;\n",
       "    }\n",
       "</style>\n",
       "<table border=\"1\" class=\"dataframe\">\n",
       "  <thead>\n",
       "    <tr style=\"text-align: right;\">\n",
       "      <th></th>\n",
       "      <th>X1</th>\n",
       "      <th>X2</th>\n",
       "      <th>Y</th>\n",
       "    </tr>\n",
       "  </thead>\n",
       "  <tbody>\n",
       "    <tr>\n",
       "      <th>0</th>\n",
       "      <td>34.623660</td>\n",
       "      <td>78.024693</td>\n",
       "      <td>0</td>\n",
       "    </tr>\n",
       "    <tr>\n",
       "      <th>1</th>\n",
       "      <td>30.286711</td>\n",
       "      <td>43.894998</td>\n",
       "      <td>0</td>\n",
       "    </tr>\n",
       "    <tr>\n",
       "      <th>2</th>\n",
       "      <td>35.847409</td>\n",
       "      <td>72.902198</td>\n",
       "      <td>0</td>\n",
       "    </tr>\n",
       "    <tr>\n",
       "      <th>3</th>\n",
       "      <td>60.182599</td>\n",
       "      <td>86.308552</td>\n",
       "      <td>1</td>\n",
       "    </tr>\n",
       "    <tr>\n",
       "      <th>4</th>\n",
       "      <td>79.032736</td>\n",
       "      <td>75.344376</td>\n",
       "      <td>1</td>\n",
       "    </tr>\n",
       "  </tbody>\n",
       "</table>\n",
       "</div>"
      ],
      "text/plain": [
       "          X1         X2  Y\n",
       "0  34.623660  78.024693  0\n",
       "1  30.286711  43.894998  0\n",
       "2  35.847409  72.902198  0\n",
       "3  60.182599  86.308552  1\n",
       "4  79.032736  75.344376  1"
      ]
     },
     "execution_count": 3,
     "metadata": {},
     "output_type": "execute_result"
    }
   ],
   "source": [
    "T.head()"
   ]
  },
  {
   "cell_type": "code",
   "execution_count": 4,
   "id": "0733f150-91d8-440e-8365-a6443fa9e7d0",
   "metadata": {},
   "outputs": [],
   "source": [
    "dt = np.array(T,dtype=\"float\")"
   ]
  },
  {
   "cell_type": "markdown",
   "id": "5fcefca9-8d98-4430-9441-e266c771dcaf",
   "metadata": {},
   "source": [
    "#### Define function"
   ]
  },
  {
   "cell_type": "code",
   "execution_count": 5,
   "id": "e46586fd-379e-4c1e-b4ed-3294741d3379",
   "metadata": {},
   "outputs": [],
   "source": [
    "def segmoide_funct(X,thetas):\n",
    "    nbcol = X.shape[1]\n",
    "    nblig = X.shape[0]\n",
    "    ligne = []\n",
    "    hx = []\n",
    "    theta_t = thetas.reshape(1,nbcol)\n",
    "    for i in range(nblig):\n",
    "        ligne = X[i][:]\n",
    "        ligne_t = ligne.reshape(nbcol,1)\n",
    "        z = theta_t.dot(ligne_t)\n",
    "        hx.append(1/(1+math.exp(-z)))\n",
    "    return hx"
   ]
  },
  {
   "cell_type": "code",
   "execution_count": 26,
   "id": "c88b0a9b-fb23-4039-8980-8e225c4e95de",
   "metadata": {},
   "outputs": [],
   "source": [
    "def funct_cout(h,y,theta):\n",
    "    nblign = len(h)\n",
    "    somme = 0\n",
    "    for i in range(nblign):\n",
    "        somme += -y[0][i]*math.log(h[i])-(1-y[0][i])*math.log(1-h[i])\n",
    "    j = somme/nblign\n",
    "    return j"
   ]
  },
  {
   "cell_type": "code",
   "execution_count": 7,
   "id": "7a131ed4-c26a-47fe-91d9-89d840464f39",
   "metadata": {},
   "outputs": [],
   "source": [
    "#features scaling using z-score\n",
    "def scale(x):\n",
    "    x_scaled = x - np.mean(x, axis=0)\n",
    "    x_scaled = x_scaled / np.std(x_scaled, axis=0)\n",
    "    return x_scaled"
   ]
  },
  {
   "cell_type": "markdown",
   "id": "566c25b1-541e-4d9b-81f1-3ba970ebe57b",
   "metadata": {},
   "source": [
    "#### Initialize theta_j"
   ]
  },
  {
   "cell_type": "code",
   "execution_count": 8,
   "id": "5b34f2be-fad6-4d28-b7c1-11c0d63afcfb",
   "metadata": {},
   "outputs": [],
   "source": [
    "theta = np.array([0]*len(T.columns))"
   ]
  },
  {
   "cell_type": "markdown",
   "id": "04285453-5273-436b-be6c-800c500e7a8a",
   "metadata": {},
   "source": [
    "#### Traitement"
   ]
  },
  {
   "cell_type": "code",
   "execution_count": 9,
   "id": "c6430675-ebde-4733-a04b-ea80b75707e6",
   "metadata": {},
   "outputs": [],
   "source": [
    "X = dt[:,:dt.shape[1]-1]\n",
    "Y = dt[:,dt.shape[1]-1:]"
   ]
  },
  {
   "cell_type": "code",
   "execution_count": 10,
   "id": "f39f7895-a41b-4ee7-8a87-63cf69905cc4",
   "metadata": {},
   "outputs": [],
   "source": [
    "Y= Y.T\n",
    "X= scale(X)"
   ]
  },
  {
   "cell_type": "code",
   "execution_count": 11,
   "id": "5f8e5fa2-ec1c-45a1-b50e-5991f0b55204",
   "metadata": {},
   "outputs": [],
   "source": [
    "r = np.array([1]*len(T),dtype=\"float\")\n",
    "X = np.c_[r,X]"
   ]
  },
  {
   "cell_type": "code",
   "execution_count": 12,
   "id": "b6b50555-b402-43a5-a31a-558b2a7b5806",
   "metadata": {},
   "outputs": [],
   "source": [
    "for u in range(200000):\n",
    "    theta_update = []\n",
    "    h = segmoide_funct(X,theta)\n",
    "    for i in range(len(theta)):\n",
    "        somme = 0\n",
    "        for j in range(len(Y[0])):\n",
    "            somme += (h[j]-Y[0][j])*X[j][i]\n",
    "        somme = somme/len(Y[0])\n",
    "        theta_update.append(theta[i]-0.01*somme)\n",
    "    theta = np.array(theta_update[:])"
   ]
  },
  {
   "cell_type": "markdown",
   "id": "9745fc9c-cd79-4f82-ac2b-ec04a3deca58",
   "metadata": {},
   "source": [
    "#### theta_j"
   ]
  },
  {
   "cell_type": "code",
   "execution_count": 29,
   "id": "a5c1c5be-c524-42b9-bf77-5d32390584cd",
   "metadata": {},
   "outputs": [
    {
     "name": "stdout",
     "output_type": "stream",
     "text": [
      "theta 0 : 1.7184440289064626 ,  theta 1 : 3.992775952490324 , theta 2 : 3.7251252276799542\n"
     ]
    }
   ],
   "source": [
    "print(f\"theta 0 : {theta[0]} ,  theta 1 : {theta[1]} , theta 2 : {theta[2]}\")"
   ]
  },
  {
   "cell_type": "code",
   "execution_count": 28,
   "id": "4ea603c0-abfd-434d-a4e6-cc1b667bb6f0",
   "metadata": {},
   "outputs": [
    {
     "data": {
      "image/png": "[encoded data removed]",
      "text/plain": [
       "<Figure size 640x480 with 1 Axes>"
      ]
     },
     "metadata": {},
     "output_type": "display_data"
    }
   ],
   "source": [
    "plt.scatter(X[:,1],X[:,2],c=Y)\n",
    "\n",
    "h1 = .02\n",
    "\n",
    "x_min, x_max = X[:, 1].min() - 1, X[:, 1].max() + 1\n",
    "y_min, y_max = X[:, 2].min() - 1, X[:, 2].max() + 1\n",
    "xx, yy = np.meshgrid(np.arange(x_min, x_max, h1),\n",
    "                      np.arange(y_min, y_max, h1))\n",
    "\n",
    "# t=[-24.06051097  , 0.1906839  ,  0.19415147]\n",
    "# Z = t[0]+ t[1] *np.array(xx)+ t[2] *np.array(yy)\n",
    "\n",
    "Z = theta[0]+ theta[1] *np.array(xx)+ theta[2] *np.array(yy)\n",
    "\n",
    "Z = Z.reshape(xx.shape)\n",
    "\n",
    "plt.contour(xx, yy, Z, levels=[0.5], colors='blue')\n",
    "plt.show()"
   ]
  },
  {
   "cell_type": "code",
   "execution_count": 30,
   "id": "3d67538b-42a0-450a-bdb4-dbcd30e3239c",
   "metadata": {},
   "outputs": [
    {
     "name": "stdout",
     "output_type": "stream",
     "text": [
      " Cost function Value : 0.20349770159028538\n"
     ]
    }
   ],
   "source": [
    "print(f\" Cost function Value : {funct_cout(h,Y,theta)}\")"
   ]
  },
  {
   "cell_type": "code",
   "execution_count": null,
   "id": "823d95db-5191-4385-9a8b-a53e47750216",
   "metadata": {},
   "outputs": [],
   "source": []
  }
 ],
 "metadata": {
  "kernelspec": {
   "display_name": "Python 3 (ipykernel)",
   "language": "python",
   "name": "python3"
  },
  "language_info": {
   "codemirror_mode": {
    "name": "ipython",
    "version": 3
   },
   "file_extension": ".py",
   "mimetype": "text/x-python",
   "name": "python",
   "nbconvert_exporter": "python",
   "pygments_lexer": "ipython3",
   "version": "3.10.8"
  }
 },
 "nbformat": 4,
 "nbformat_minor": 5
}
