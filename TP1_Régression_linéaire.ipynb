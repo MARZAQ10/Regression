{
 "cells": [
  {
   "cell_type": "code",
   "execution_count": 1,
   "id": "e2459d7a",
   "metadata": {},
   "outputs": [],
   "source": [
    "# Fonction pour calculer la fonction de coût\n",
    "def cout(X, y, theta):\n",
    "    m = len(y)\n",
    "    J = 1 / (2 * m) * np.sum((X.dot(theta) - y) ** 2)\n",
    "    return J"
   ]
  },
  {
   "cell_type": "code",
   "execution_count": 2,
   "id": "facf2bcf",
   "metadata": {},
   "outputs": [],
   "source": [
    "# Fonction de l descente de gradient\n",
    "def gradient_descent(X, y, theta, alpha, num_iters):\n",
    "    m = len(y)\n",
    "    for i in range(num_iters):\n",
    "        theta = theta - alpha * (1 / m) * (X.T.dot(X.dot(theta) - y))\n",
    "    return theta"
   ]
  },
  {
   "cell_type": "code",
   "execution_count": 3,
   "id": "51b0fa3c",
   "metadata": {},
   "outputs": [],
   "source": [
    "# Fonction pour normaliser les fonctionnalités\n",
    "def feature_normalize(X):\n",
    "    mean = np.mean(X, axis=0)\n",
    "    std = np.std(X, axis=0)\n",
    "    X_norm = (X - mean) / std\n",
    "    return X_norm"
   ]
  },
  {
   "cell_type": "markdown",
   "id": "6c86c1c8",
   "metadata": {},
   "source": [
    "1ere exrcice:"
   ]
  },
  {
   "cell_type": "code",
   "execution_count": 4,
   "id": "1757c170",
   "metadata": {},
   "outputs": [],
   "source": [
    "# Charger les donnees d' un fichier CSV\n",
    "import pandas as pd\n",
    "import numpy as np\n",
    "data = pd.read_csv(\"ex1data1.txt\", sep=\",\")"
   ]
  },
  {
   "cell_type": "code",
   "execution_count": 5,
   "id": "f9f8bd96",
   "metadata": {},
   "outputs": [],
   "source": [
    "# selectionner les x\n",
    "X = data.iloc[:, :-1].values\n",
    "\n",
    "# selectionner la y\n",
    "y = data.iloc[:, -1].values"
   ]
  },
  {
   "cell_type": "code",
   "execution_count": 6,
   "id": "267ab425",
   "metadata": {},
   "outputs": [],
   "source": [
    "# Ajouter une colonne de 1 pour le terme d'interception\n",
    "X = np.hstack((np.ones((len(y), 1)), X))"
   ]
  },
  {
   "cell_type": "code",
   "execution_count": 7,
   "id": "37cfef47",
   "metadata": {},
   "outputs": [],
   "source": [
    "# initialiser les parametres\n",
    "alpha = 0.01\n",
    "num_iters = 10000\n",
    "theta = np.zeros(X.shape[1])"
   ]
  },
  {
   "cell_type": "code",
   "execution_count": 8,
   "id": "753244e4",
   "metadata": {},
   "outputs": [],
   "source": [
    "# Effectuer la descente de gradient pour trouver les paramètres optimaux de theta\n",
    "theta= gradient_descent(X, y, theta, alpha, num_iters)"
   ]
  },
  {
   "cell_type": "code",
   "execution_count": 9,
   "id": "b2d1d303",
   "metadata": {},
   "outputs": [
    {
     "name": "stdout",
     "output_type": "stream",
     "text": [
      "Les paramètres de theta sont: [-3.89578082  1.19303364]\n",
      "La valeur minimale de la fonction de coût est: 4.476971375975179\n"
     ]
    },
    {
     "data": {
      "text/plain": [
       "[<matplotlib.lines.Line2D at 0x24aa0f3f460>]"
      ]
     },
     "execution_count": 9,
     "metadata": {},
     "output_type": "execute_result"
    },
    {
     "data": {
      "image/png": "[encoded data removed]",
      "text/plain": [
       "<Figure size 640x480 with 1 Axes>"
      ]
     },
     "metadata": {},
     "output_type": "display_data"
    }
   ],
   "source": [
    "import matplotlib.pyplot as plt\n",
    "# Afficher les paramètres de theta\n",
    "print('Les paramètres de theta sont:', theta)\n",
    "\n",
    "# Afficher la valeur minimale de la fonction de cout\n",
    "print('La valeur minimale de la fonction de coût est:',cout(X,y,theta))\n",
    "\n",
    "plt.scatter(data[\"population\"],data[\"benefice\"])\n",
    "plt.plot(data[\"population\"],X.dot(theta))"
   ]
  },
  {
   "cell_type": "markdown",
   "id": "12f6c646",
   "metadata": {},
   "source": [
    "2ere exrcice:"
   ]
  },
  {
   "cell_type": "code",
   "execution_count": 10,
   "id": "1693ac8e",
   "metadata": {},
   "outputs": [],
   "source": [
    "# Charger les donnees d' un fichier CSV\n",
    "data = pd.read_csv(\"ex1data2.txt\", sep=\",\")"
   ]
  },
  {
   "cell_type": "code",
   "execution_count": 11,
   "id": "9f9288ca",
   "metadata": {},
   "outputs": [],
   "source": [
    "# selectionner les x\n",
    "X = data.iloc[:, :-1].values\n",
    "\n",
    "# selectionner les y\n",
    "y = data.iloc[:, -1].values"
   ]
  },
  {
   "cell_type": "code",
   "execution_count": 12,
   "id": "6ae6e5de",
   "metadata": {},
   "outputs": [],
   "source": [
    "x= feature_normalize(X)"
   ]
  },
  {
   "cell_type": "code",
   "execution_count": 13,
   "id": "893cdf9e",
   "metadata": {},
   "outputs": [],
   "source": [
    "# Ajouter une colonne de 1 pour le terme d'interception\n",
    "x = np.hstack((np.ones((len(y), 1)), x))"
   ]
  },
  {
   "cell_type": "code",
   "execution_count": 14,
   "id": "beab2110",
   "metadata": {},
   "outputs": [
    {
     "data": {
      "text/plain": [
       "(47, 3)"
      ]
     },
     "execution_count": 14,
     "metadata": {},
     "output_type": "execute_result"
    }
   ],
   "source": [
    "# initialiser les parametres\n",
    "alpha = 0.01\n",
    "num_iters = 1000000\n",
    "theta = np.zeros(x.shape[1])\n",
    "x.shape\n"
   ]
  },
  {
   "cell_type": "code",
   "execution_count": null,
   "id": "cccf4c8e",
   "metadata": {},
   "outputs": [],
   "source": [
    "# Effectuer la descente de gradient pour trouver les paramètres optimaux de theta\n",
    "theta = gradient_descent(x, y, theta, alpha, num_iters)"
   ]
  },
  {
   "cell_type": "code",
   "execution_count": null,
   "id": "9d9e646a",
   "metadata": {},
   "outputs": [],
   "source": [
    "# Afficher les paramètres de theta\n",
    "print('Les paramètres de theta sont:', theta)"
   ]
  },
  {
   "cell_type": "code",
   "execution_count": null,
   "id": "a510b994",
   "metadata": {},
   "outputs": [],
   "source": [
    "#utilisant sckit-learn \n",
    "import pandas as pd\n",
    "from sklearn.linear_model import LinearRegression\n",
    "from sklearn.preprocessing import StandardScaler\n",
    "\n",
    "\n",
    "model = LinearRegression()\n",
    "model.fit(x, y)\n",
    "print(\"Coefficients :\", model.coef_)\n",
    "print(\"Terme indépendant :\", model.intercept_)"
   ]
  },
  {
   "cell_type": "code",
   "execution_count": null,
   "id": "85e96628",
   "metadata": {},
   "outputs": [],
   "source": []
  },
  {
   "cell_type": "code",
   "execution_count": null,
   "id": "b9beb38c",
   "metadata": {},
   "outputs": [],
   "source": []
  }
 ],
 "metadata": {
  "kernelspec": {
   "display_name": "Python 3 (ipykernel)",
   "language": "python",
   "name": "python3"
  },
  "language_info": {
   "codemirror_mode": {
    "name": "ipython",
    "version": 3
   },
   "file_extension": ".py",
   "mimetype": "text/x-python",
   "name": "python",
   "nbconvert_exporter": "python",
   "pygments_lexer": "ipython3",
   "version": "3.9.13"
  }
 },
 "nbformat": 4,
 "nbformat_minor": 5
}
